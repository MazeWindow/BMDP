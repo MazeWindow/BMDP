{
 "cells": [
  {
   "cell_type": "markdown",
   "metadata": {},
   "source": [
    "# Задание 8"
   ]
  },
  {
   "cell_type": "markdown",
   "metadata": {},
   "source": [
    "### Задача\n",
    "- Сгенерировать или найти подходящий датасет\n",
    "- Применить дисперсионный анализ\n",
    "- Определить влияние независимой переменной на зависимую по результатам дисперсионного анализа\n",
    "\n",
    "### Требование к данным\n",
    "- Зависимая переменная должна быть непрерывной\n",
    "- Зависимая переменная должна иметь нормальное распределение\n",
    "- Зависимая переменная не должна содержать выбросов\n",
    "- Независимая переменная должна быть категориальной и содержать две или больше групп\n",
    "- Группы независимой переменной должны быть независимыми друг от друга\n",
    "- Дисперсии групп должны быть примерно равны\n",
    "- Каждая группа должна содержать хотя бы 6 наблюдений\n",
    "- Группы должны иметь одинаковое количество наблюдений\n",
    "\n",
    "### План\n",
    "- Получить датасет\n",
    "- Выбрать из датасета данные\n",
    "- Проверить данные на соответствие всем требованиям и, если:\n",
    "    - данные соответствуют требованиям: провести дисперсионный анализ\n",
    "    - данные не соответствуют требованиям: выбрать другие данные\n",
    "- Сделать выводы по результатам анализа\n",
    "\n",
    "### Размышления\n",
    "Пункты выбора и проверки данных в Плане самые сложные. Нужно понять по каким параметрам выбирать данные, на что смотреть и чем руководствоваться. Данные из датасета по этим параметрам можно выбрать \"на глаз\", примерно, а потом по этим же параметрам в коде точно определить соответствуют ли данные требованиям. Нужно получше разобраться в теории, это позволит понять какие именно параметры нужно оценивать. \n",
    "\n",
    "Самые сложные или неочевидные моменты в коде буду комментировать, приводить фрагменты расчетных формул \"на полях\", как в лаораторной №6: это поможет во-первых не запутаться в слагаемых, а во-вторых - увидеть логические ошибки в программе, если результаты её работы будут подозрительными.\n",
    "\n",
    "Если хорошо разберусь в теории, возможно получится не брать новые данные вместо неподходящих, а корректировать их. Если данные я получу, а не сгенерирую - корректировать их не буду: достоверность результатов анализа по отношению к \"оригинальным\" данным снизится. "
   ]
  },
  {
   "cell_type": "code",
   "execution_count": 120,
   "metadata": {},
   "outputs": [],
   "source": [
    "from numpy import mean\n",
    "from numpy import std\n",
    "from math import sqrt\n",
    "from pandas import read_excel\n",
    "from matplotlib.pyplot import plot\n",
    "from matplotlib.pyplot import subplot\n",
    "from matplotlib.pyplot import figure\n",
    "from matplotlib.pyplot import boxplot\n",
    "from random import randint\n",
    "from random import normalvariate"
   ]
  },
  {
   "cell_type": "code",
   "execution_count": 146,
   "metadata": {},
   "outputs": [],
   "source": [
    "groupsNum=10\n",
    "groupLen=10\n",
    "groupsRange=15\n",
    "sigma=5 \n",
    "#значение среднего отклонения будет общим для всех генериируемых \n",
    "#выборок, гарантируя близкие дисперсии\n",
    "gradsNum=2 \n",
    "#в качестве категориальной переменной возьму целые числа \n",
    "#от нуля таким образом, для двух градаций будет \n",
    "#два значения переменной: 0 и 1"
   ]
  },
  {
   "cell_type": "code",
   "execution_count": 152,
   "metadata": {},
   "outputs": [
    {
     "name": "stdout",
     "output_type": "stream",
     "text": [
      "0 : [-8.97, -0.38, -8.25, -15.65, 18.01, 10.49, -14.09, 14.72, -3.91, 5.12]\n",
      "0 : [6.04, -2.65, 2.44, -17.66, -2.49, 25.62, -3.65, 12.16, 8.77, -6.58]\n",
      "1 : [-10.66, 1.32, 4.46, 19.36, 6.48, -3.82, 0.97, -16.13, -7.16, 22.7]\n",
      "0 : [-19.02, 12.24, 12.5, -3.76, 0.81, 11.05, 2.17, -12.05, -7.69, -6.84]\n",
      "1 : [12.96, -1.85, -3.77, 1.64, 12.4, 12.31, 14.33, 4.51, 3.94, 6.56]\n",
      "0 : [-1.83, -6.41, 15.11, 0.78, -5.2, -8.76, -1.32, -15.44, -13.08, -2.61]\n",
      "0 : [-7.02, 10.57, 13.06, 13.41, -15.07, -5.19, -16.62, 18.96, -6.9, -10.87]\n",
      "1 : [-9.12, 2.4, 2.24, -3.88, -7.94, 5.53, 3.5, -8.12, 9.11, 7.82]\n",
      "1 : [20.96, -14.02, 6.54, 15.92, -17.76, 7.42, 10.92, -6.66, 4.85, -1.92]\n",
      "1 : [1.82, -10.59, 8.06, -10.79, 0.17, 12.93, -25.28, -1.86, 7.6, -4.04]\n"
     ]
    }
   ],
   "source": [
    "data=[[round(normalvariate(randint(0-groupsRange, groupsRange), sigma), 2) for i in range(groupLen)] for i in range(groupsNum)]\n",
    "gradation=[randint(0,gradsNum-1) for i in range(groupsNum)]\n",
    "\n",
    "for i in range(groupsNum):\n",
    "    print(gradation[i], \":\",data[i])"
   ]
  },
  {
   "cell_type": "markdown",
   "metadata": {},
   "source": [
    "Вот так выглядят сгенерированные данные: каждому значению градации \n",
    "соответствует набор значений."
   ]
  },
  {
   "cell_type": "markdown",
   "metadata": {},
   "source": [
    "Напишу функцию для дисперсионного анализа"
   ]
  },
  {
   "cell_type": "markdown",
   "metadata": {},
   "source": [
    "Для неё напишу вспомагательную функцию которая будет доставать\n",
    "критическое табличное значение критерия Фишера"
   ]
  },
  {
   "cell_type": "code",
   "execution_count": 235,
   "metadata": {},
   "outputs": [],
   "source": [
    "def getCritT(df1, df2):\n",
    "    if df1==0 or df2==0: print(\"getCritT: Ошибка!\", df1, df2)\n",
    "    if df1>=40: idxX=14\n",
    "    elif df1>=30: idxX=13\n",
    "    elif df1>=20: idxX=12\n",
    "    elif df1>=15: idxX=11\n",
    "    elif df1>=10: idxX=10\n",
    "    else: idxX=df1//1\n",
    "    \n",
    "    if df2>=130: idxY=31\n",
    "    elif df2>=120: idxY=30\n",
    "    elif df2>=60: idxY=29\n",
    "    elif df2>=40: idxY=28\n",
    "    elif df2>=30: idxY=27\n",
    "    elif df2>=28: idxY=26\n",
    "    else: idxY=df2//1\n",
    "    \n",
    "    array= read_excel(\"FisherCriterionCritVal.xlsx\")\n",
    "    F=array[idxX][idxY]\n",
    "    return F"
   ]
  },
  {
   "cell_type": "code",
   "execution_count": 236,
   "metadata": {},
   "outputs": [],
   "source": [
    "def Anova(someData, someC): #принимает двухмерный массив, содержащий выборки\n",
    "    \n",
    "    dataLen=len(someData)\n",
    "    Ts=[sum(someData[i]) for i in range(dataLen)] #1 сумма индивидуальных значений для каждой из групп\n",
    "    \n",
    "    SqSigTs=0\n",
    "    for i in range(dataLen):\n",
    "        SqSigTs+=Ts[i]**2     #2 сумма квадратов суммарных значений каждой выборки\n",
    "    \n",
    "    c=someC                 #3 количество градаций\n",
    "    n=[len(someData[i]) for i in range(dataLen)] #4 количетсво измерений в группах\n",
    "    N=sum(n)    #5 общее количество измерений\n",
    "    SqSigXi=sum(Ts)**2 #6 квадрат суммы индивидуальных значений\n",
    "    SqSigXiN=SqSigXi/N #7 квадрат/N\n",
    "    SigXiSq=0\n",
    "    for i in range(dataLen):\n",
    "        for j in range(len(someData[i])):\n",
    "            SigXiSq+=someData[i][j]**2 #9 суммa квадраmов индивидуальных значений\n",
    "    \n",
    "    intVar=SqSigTs/mean(n)-SigXiSq/N  #внутригрупповая дисперсия\n",
    "    commVar=SqSigXi-SigXiSq/N #общегрупповая дисперсия\n",
    "    resdVar=intVar-commVar    #остаточная величина\n",
    "    \n",
    "    intD=c-1         #степень свободы градации\n",
    "    commD=N-1        #фактическиая степень свободы градации\n",
    "    resdD=intD-commD #остаточная степень свободы градации\n",
    "    \n",
    "    intM=intVar/intD    #среднегрупповая мода\n",
    "    commM=commVar/commD #общая мода\n",
    "    resdM=resdVar/resdD #остаточная степень свободы градации\n",
    "    #            f2   f1\n",
    "    empF=round(intM/resdM, 1)\n",
    "    critF=getCritT(intM, resdM)\n",
    "    \n",
    "    print(\"Сумма индивидуальных значений для каждой из групп: \", Ts)\n",
    "    print(\"Сумма квадратов суммарных значений каждой выборки: \",SqSigTs)\n",
    "    print(\"Количество градаций: \", c)\n",
    "    print(\"Количетсво измерений в группах: \", n)\n",
    "    print(\"Общее количество измерений: \", N)\n",
    "    print(\"Квадрат суммы индивидуальных значений: \", SqSigXi)\n",
    "    print(\"Квадрат/N: \", SqSigXiN)\n",
    "    print(\"Суммa квадраmов индивидуальных значений: \", SigXiSq)\n",
    "    print(\"Внутригрупповая дисперсия: \", intVar)\n",
    "    print(\"Общегрупповая дисперсия: \", commVar)\n",
    "    print(\"Остаточная дисперсия: \", resdVar)\n",
    "    print(\"Степень свободы градации: \", intD)\n",
    "    print(\"Фактическиая степень свободы градации: \", commD)\n",
    "    print(\"Oстаточная степень свободы градации: \", resdD)\n",
    "    print(\"Cреднегрупповая мода: \", intM)#\n",
    "    print(\"Oбщая мода: \", commM)\n",
    "    print(\"Oстаточная мода: \", resdM)#\n",
    "    print(\"Критическое F: \", critF)\n",
    "    print(\"Вычисленное F: \", empF)\n",
    "    \n",
    "    \n",
    "    if empF>=critF: print(\"Равенство средних не подтверждено\")\n",
    "    else: print(\"Равенство средних подтверждено\")\n",
    "    "
   ]
  },
  {
   "cell_type": "code",
   "execution_count": 234,
   "metadata": {
    "scrolled": false
   },
   "outputs": [
    {
     "name": "stdout",
     "output_type": "stream",
     "text": [
      "сумма индивидуальных значений для каждой из групп:  [-2.9099999999999957, 22.0, 17.52, -10.59, 63.03, -38.76, -5.670000000000002, 1.540000000000001, 26.249999999999993, -21.979999999999997]\n",
      "сумма квадратов суммарных значений каждой выборки:  7593.3885\n",
      "количество градаций:  2\n",
      "количетсво измерений в группах:  [10, 10, 10, 10, 10, 10, 10, 10, 10, 10]\n",
      "общее количество измерений:  100\n",
      "квадрат суммы индивидуальных значений:  2543.1849\n",
      "Квадрат/N:  25.431849000000003\n",
      "Суммa квадраmов индивидуальных значений:  11283.843100000006\n",
      "Внутригрупповая дисперсия:  646.500419\n",
      "Общегрупповая дисперсия:  2430.346469\n",
      "Остаточная дисперсия:  -1783.84605\n",
      "Степень свободы градации:  1\n",
      "Фактическиая степень свободы градации:  99\n",
      "Oстаточная степень свободы градации:  -98\n",
      "Cреднегрупповая мода:  646.500419\n",
      "Oбщая мода:  24.548954232323233\n",
      "Oстаточная мода:  18.202510714285715\n",
      "Критическое F:  1.9\n",
      "Вычисленное F:  35.5\n",
      "Равенство средних не подтверждено\n"
     ]
    }
   ],
   "source": [
    "Anova(data, gradsNum)"
   ]
  },
  {
   "cell_type": "markdown",
   "metadata": {},
   "source": [
    "Построю графики данных"
   ]
  },
  {
   "cell_type": "code",
   "execution_count": 237,
   "metadata": {},
   "outputs": [
    {
     "data": {
      "image/png": "[encoded data removed]",
      "text/plain": [
       "<Figure size 432x288 with 1 Axes>"
      ]
     },
     "metadata": {
      "needs_background": "light"
     },
     "output_type": "display_data"
    }
   ],
   "source": [
    "figure(1)\n",
    "boxplot(data);"
   ]
  },
  {
   "cell_type": "markdown",
   "metadata": {},
   "source": [
    "\n",
    "Выведу стат. характеристики групп"
   ]
  },
  {
   "cell_type": "code",
   "execution_count": 246,
   "metadata": {},
   "outputs": [
    {
     "name": "stdout",
     "output_type": "stream",
     "text": [
      "Группа №     среднее     отклонение\n",
      "   1           -0.29           11.33    \n",
      "   2           2.2           11.21    \n",
      "   3           1.75           11.68    \n",
      "   4           -1.06           10.24    \n",
      "   5           6.3           6.17    \n",
      "   6           -3.88           8.03    \n",
      "   7           -0.57           12.5    \n",
      "   8           0.15           6.52    \n",
      "   9           2.62           11.94    \n",
      "   10           -2.2           10.64    \n"
     ]
    }
   ],
   "source": [
    "print(\"Группа №     среднее     отклонение\")\n",
    "for i in range(dataLen):\n",
    "    print(\"   %s           %s           %s    \" %(i+1, round(mean(data[i]), 2), round(std(data[i]), 2)))"
   ]
  },
  {
   "cell_type": "markdown",
   "metadata": {},
   "source": [
    "### Результат\n",
    "Написанная функция работает корректно, это подтверждают графики разброса в группах и \n",
    "значения статистических характеристик, посчитанные с помощью встроенных функций пайтона (которые точно работают корректно)"
   ]
  },
  {
   "cell_type": "code",
   "execution_count": null,
   "metadata": {},
   "outputs": [],
   "source": []
  }
 ],
 "metadata": {
  "kernelspec": {
   "display_name": "Python 3",
   "language": "python",
   "name": "python3"
  },
  "language_info": {
   "codemirror_mode": {
    "name": "ipython",
    "version": 3
   },
   "file_extension": ".py",
   "mimetype": "text/x-python",
   "name": "python",
   "nbconvert_exporter": "python",
   "pygments_lexer": "ipython3",
   "version": "3.7.4"
  }
 },
 "nbformat": 4,
 "nbformat_minor": 2
}
