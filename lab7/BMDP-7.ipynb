{
 "cells": [
  {
   "cell_type": "markdown",
   "metadata": {},
   "source": [
    "# Задание 7\n",
    "\n",
    "### Задача\n",
    "- Взять c kaggle или сгенерировать две выборки\n",
    "- Применить к ним t-критерий Стьюдента для независимых выборок\n",
    "\n",
    "### Требование к данным\n",
    "- Непрерывные значения зависимой переменной\n",
    "- Данные из двух выборок не взаимосвязаны\n",
    "- Данные случайны\n",
    "- Данные должны содержать хотя бы 6 значений\n",
    "- Данные не содержат выбросов\n",
    "\n",
    "### План\n",
    "1. Сгенерирую выборки\n",
    "2. Проверю однородность дисперсий используя тест Левене\n",
    "   2.1 Если дисперсии неоднородны, применю t-тест Уэлча\n",
    "   2.2 Если дисперсии однородны, применю t-тест Стьюдента для независимых выборок\n",
    "\n",
    "### Размышления\n",
    "Стоит сгенерировать не две, а три выборки и сравнивать их попарно так, чтоб пришлось применить t-тест Уэлча и по возможности получить разные результаты тестов для разных групп"
   ]
  },
  {
   "cell_type": "code",
   "execution_count": 8,
   "metadata": {},
   "outputs": [],
   "source": [
    "from random import normalvariate\n",
    "from random import randint\n",
    "from math import sqrt\n",
    "from pandas import read_excel\n",
    "from numpy import std\n",
    "from numpy import mean"
   ]
  },
  {
   "cell_type": "code",
   "execution_count": 9,
   "metadata": {},
   "outputs": [],
   "source": [
    "dataLen=10 #размер выборок"
   ]
  },
  {
   "cell_type": "code",
   "execution_count": 18,
   "metadata": {},
   "outputs": [],
   "source": [
    "mu1=randint(0, 100)\n",
    "sigma1=randint(0, 100)\n",
    "normalDistr1=[normalvariate(mu1, sigma1) for i in range(dataLen)]\n",
    "normalDistr2=[normalvariate(mu1, sigma1) for i in range(dataLen)]\n",
    "normalDistr3=[normalvariate(randint(0, 100),randint(0, 100)) for i in range(dataLen)]"
   ]
  },
  {
   "cell_type": "markdown",
   "metadata": {},
   "source": [
    "Выборки готовы.\n",
    "Напишу функцию для теста Левене:"
   ]
  },
  {
   "cell_type": "code",
   "execution_count": 30,
   "metadata": {
    "scrolled": true
   },
   "outputs": [
    {
     "name": "stdout",
     "output_type": "stream",
     "text": [
      "True\n",
      "False\n"
     ]
    }
   ],
   "source": [
    "def LeveneTest(data1, data2):\n",
    "    sig1=std(data1)**2\n",
    "    sig2=std(data2)**2\n",
    "    df1=len(data1)-1\n",
    "    df2=len(data2)-1\n",
    "    LeveneCritVal=read_excel(\"LeveneCriterionCritVal.xlsx\")[df1 if df1>df2 else df2][df2 if df1<df2 else df1]\n",
    "    F=sig1/sig2 if sig1>sig2 else sig2/sig1\n",
    "    isSignificant= False if F>LeveneCritVal else True\n",
    "    return isSignificant\n",
    "print(LeveneTest(normalDistr1, normalDistr2))\n",
    "print(LeveneTest(normalDistr1, normalDistr3))"
   ]
  },
  {
   "cell_type": "markdown",
   "metadata": {},
   "source": [
    "Работает\n",
    "\n",
    "Теперь напишу функцию, которая будет вычислять t-критерий. Для этого организую две вспомогательных функции, каждая из которых будет вычислять t-критерий в зависимости от результатов теста Левене"
   ]
  },
  {
   "cell_type": "code",
   "execution_count": 43,
   "metadata": {},
   "outputs": [],
   "source": [
    "def tCriterion(data1, data2):\n",
    "    N1=len(data1)\n",
    "    N2=len(data2)\n",
    "    sig1=std(data1)**2\n",
    "    sig2=std(data2)**2\n",
    "    mean1=mean(data1)\n",
    "    mean2=mean(data2)\n",
    "    t=0\n",
    "    if(LeveneTest(data1, data2)): t=tIfDispsEqual(N1, N2, sig1, sig2, mean1, mean2)\n",
    "    else: t=tIfDispsNotEqual(N1, N2, sig1, sig2, mean1, mean2)\n",
    "    return t, N1+N2-2"
   ]
  },
  {
   "cell_type": "code",
   "execution_count": 44,
   "metadata": {},
   "outputs": [],
   "source": [
    "def tIfDispsEqual(N1, N2, sig1, sig2, mean1, mean2):\n",
    "    \n",
    "    numerator=abs(mean1 - mean2)\n",
    "    denominator=sqrt(sig1/N1 + sig2/N2)\n",
    "    t=numerator/denominator\n",
    "    \n",
    "    return t"
   ]
  },
  {
   "cell_type": "code",
   "execution_count": 45,
   "metadata": {},
   "outputs": [],
   "source": [
    "def tIfDispsNotEqual(N1, N2, sig1, sig2, mean1, mean2):\n",
    "    \n",
    "    numerator=abs(mean1 - mean2)\n",
    "    den1=(N1-1)*sig1 + (N2-1)*sig2\n",
    "    den2= N1 + N2 - 2\n",
    "    den3=1/N1+1/N2\n",
    "    denominator=sqrt(den1/den2*den3)\n",
    "    t=numerator/denominator\n",
    "    \n",
    "    return t"
   ]
  },
  {
   "cell_type": "markdown",
   "metadata": {},
   "source": [
    "Теперь напишу функцию, которая сравнит полученное значение t-критерия с критическим табличным"
   ]
  },
  {
   "cell_type": "code",
   "execution_count": 64,
   "metadata": {},
   "outputs": [],
   "source": [
    "def CheckTabT(empT, df):\n",
    "    tabT=0\n",
    "    array=read_excel(\"pairedCriterionCritVal.xlsx\")\n",
    "    for i in range(len(array[\"df\"])):\n",
    "        if array[\"df\"][i]==df: tabT=array[0.05][i]\n",
    "    if empT>tabT: return False\n",
    "    if empT<=tabT: return True"
   ]
  },
  {
   "cell_type": "markdown",
   "metadata": {},
   "source": [
    "Теперь напишу функцию, которая будет вызывать все остальные"
   ]
  },
  {
   "cell_type": "code",
   "execution_count": 56,
   "metadata": {},
   "outputs": [],
   "source": [
    "def main(data1, data2):\n",
    "    empT, df=tCriterion(data1, data2)\n",
    "    areMeansEqual=CheckTabT(empT, df)\n",
    "    if areMeansEqual==False: print(\"Средние статистически отличаются\")\n",
    "    if areMeansEqual==True: print(\"Средние статистически не отличаются\")\n",
    "    print()"
   ]
  },
  {
   "cell_type": "markdown",
   "metadata": {},
   "source": [
    "### Результат"
   ]
  },
  {
   "cell_type": "markdown",
   "metadata": {},
   "source": [
    "Для наглядности построю гистограммы распределения частот в наборах данных"
   ]
  },
  {
   "cell_type": "code",
   "execution_count": 57,
   "metadata": {},
   "outputs": [],
   "source": [
    "import matplotlib.pyplot as plt"
   ]
  },
  {
   "cell_type": "code",
   "execution_count": 58,
   "metadata": {},
   "outputs": [
    {
     "data": {
      "image/png": "[encoded data removed]",
      "text/plain": [
       "<Figure size 432x288 with 3 Axes>"
      ]
     },
     "metadata": {
      "needs_background": "light"
     },
     "output_type": "display_data"
    }
   ],
   "source": [
    "plt.figure(1)\n",
    "plt.subplot(3,1,1)\n",
    "plt.hist(normalDistr1);\n",
    "plt.subplot(3,1,2)\n",
    "plt.hist(normalDistr2);\n",
    "plt.subplot(3,1,3)\n",
    "plt.hist(normalDistr3);"
   ]
  },
  {
   "cell_type": "code",
   "execution_count": 65,
   "metadata": {
    "scrolled": true
   },
   "outputs": [
    {
     "name": "stdout",
     "output_type": "stream",
     "text": [
      "№1 и №2\n",
      "Средние статистически не отличаются\n",
      "\n",
      "№1 и №3\n",
      "Средние статистически не отличаются\n",
      "\n",
      "№2 и №3\n",
      "Средние статистически не отличаются\n",
      "\n"
     ]
    }
   ],
   "source": [
    "print(\"№1 и №2\")\n",
    "main(normalDistr1, normalDistr2)\n",
    "print(\"№1 и №3\")\n",
    "main(normalDistr1, normalDistr3)\n",
    "print(\"№2 и №3\")\n",
    "main(normalDistr2, normalDistr3)"
   ]
  },
  {
   "cell_type": "markdown",
   "metadata": {},
   "source": [
    "### Выводы\n",
    "- Все три датасета оказались статистически одинаковыми\n",
    "- Функции работают корректно\n",
    "- Необходимо научиться делать разные датасеты"
   ]
  }
 ],
 "metadata": {
  "kernelspec": {
   "display_name": "Python 3",
   "language": "python",
   "name": "python3"
  },
  "language_info": {
   "codemirror_mode": {
    "name": "ipython",
    "version": 3
   },
   "file_extension": ".py",
   "mimetype": "text/x-python",
   "name": "python",
   "nbconvert_exporter": "python",
   "pygments_lexer": "ipython3",
   "version": "3.7.4"
  }
 },
 "nbformat": 4,
 "nbformat_minor": 2
}
