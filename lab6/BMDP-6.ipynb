{
 "cells": [
  {
   "cell_type": "markdown",
   "metadata": {},
   "source": [
    "# Задание 6\n",
    "\n",
    "### Задача\n",
    "Используя коэффициент корреляции Пирсона и парный t-критерий Стьюдента для зависимых выборок сравнить два набора данных.\n",
    "\n",
    "### План\n",
    "- Сделать датасеты\n",
    "- Сделать функцию, реализующую парный t-критерий Стьюдента\n",
    "- Проверить работу функции, сравнивая свои наборы данных\n",
    "\n",
    "### Размышления\n",
    "Для проверки работы функции сделаю три датасета: \n",
    "- первый, с нормальным распределением\n",
    "- второй, такой же как первый, только каждый элемент больше на n\n",
    "- третий, не с нормальным распределением, а, например с распределением Парето\n",
    "\n",
    "Сравню их.\n",
    "Буду считать что функция работает верно если:\n",
    "- первый и второй датасеты сходны\n",
    "- первый (или второй) и третий датасеты различны\n",
    "\n",
    "Чтобы быть уверенным что ошибка будет только в функции, датасеты должны иметь именно такое распределение как было задумано. Для этого сгенерирую наборы данных с помощью модуля random.\n",
    "\n",
    "### Работа"
   ]
  },
  {
   "cell_type": "code",
   "execution_count": 524,
   "metadata": {},
   "outputs": [],
   "source": [
    "from random import normalvariate\n",
    "from random import paretovariate"
   ]
  },
  {
   "cell_type": "code",
   "execution_count": 525,
   "metadata": {},
   "outputs": [],
   "source": [
    "# параметры и служебные переменные для построения датасетов\n",
    "someMean=50      #среднее для нормального распределения\n",
    "someSigma=15     #отклонение для нормального распределения\n",
    "someAlpha=100    #альфа-параметр для расп. Парето\n",
    "dataLen=50       #размер датасетов\n",
    "n=5              #разница между і-тым элементом первого и второго датасетов"
   ]
  },
  {
   "cell_type": "code",
   "execution_count": 526,
   "metadata": {},
   "outputs": [],
   "source": [
    "normDistr1 = [ normalvariate(someMean, sigma) for i in range(dataLen) ]\n",
    "normDistr2 = [ normDistr1[i]+n for i in range(dataLen) ]\n",
    "paretoDistr = [ paretovariate(someAlpha) for i in range(dataLen) ]"
   ]
  },
  {
   "cell_type": "markdown",
   "metadata": {},
   "source": [
    "Есть. Теперь оценю насколько данные из наборов связаны. Для этого напишу функцию, которая посчитает коэффициент корреляции Пирсона.\n",
    "\n",
    "(наверное можно было бы взять из предыдущей лабы, но там распределение частот дискретных величин, а тут - непрерывных)."
   ]
  },
  {
   "cell_type": "code",
   "execution_count": 527,
   "metadata": {},
   "outputs": [],
   "source": [
    "from math import sqrt\n",
    "from numpy import mean"
   ]
  },
  {
   "cell_type": "code",
   "execution_count": 528,
   "metadata": {},
   "outputs": [],
   "source": [
    "def PearsonCorrel_1(data1, data2):\n",
    "    n=len(data1)\n",
    "    if n!=len(data2):\n",
    "        print(\"Разные длины массивов!\")\n",
    "        return\n",
    "    part1=0 #сумма (Хі*Уі)\n",
    "    part2=0 #(сумма Хі)*(сумма Уі)\n",
    "    part3=0 #сумма Хі\n",
    "    part4=0 #сумма квадратов Хі\n",
    "    part5=0 #сумма Уі\n",
    "    part6=0 #сумма квадратов Уі\n",
    "    \n",
    "    for i in range(n):\n",
    "        part1 += data1[i]*data2[i]    #сумма (Хі*Уі)\n",
    "        part3 += data1[i]             #сумма Хі\n",
    "        part4 += data1[i]**2          #сумма квадратов Хі\n",
    "        part5 += data2[i]             #сумма Уі \n",
    "        part6 += data2[i]**2          #сумма квадратов Уі\n",
    "    part2=part3*part5                 #(сумма Хі)*(сумма Уі)\n",
    "    \n",
    "    numerator=n*part1 - part2\n",
    "    denominator =sqrt( (n*part4 - part3**2) * (n*part6 - part5**2) )\n",
    "    r=numerator/denominator\n",
    "    return r"
   ]
  },
  {
   "cell_type": "markdown",
   "metadata": {},
   "source": [
    "Первая реализация работала некорректно, пришлось написать другую. \n",
    "Первая была исправлена потом, но я решил её оставить"
   ]
  },
  {
   "cell_type": "code",
   "execution_count": 529,
   "metadata": {},
   "outputs": [],
   "source": [
    "def PearsonCorrel_2(data1, data2):\n",
    "    n=len(data1)\n",
    "    if n!=len(data2):\n",
    "        print(\"Массивы разной длины!\")\n",
    "        return\n",
    "    Xm=mean(data1)\n",
    "    Ym=mean(data2)\n",
    "    part1=0 #сумма (xi-xm)\n",
    "    part2=0 #сумма (yi-ym)\n",
    "    part3=0 #сумма (xi-xm)*(yi-ym)\n",
    "    part4=0 # кв.кор. сумма (xi-xm) * сумма (yi-ym)\n",
    "    \n",
    "    for i in range(n):\n",
    "        part1+= (data1[i]-Xm)**2\n",
    "        part2+= (data2[i]-Ym)**2\n",
    "        part3+= ((data1[i]-Xm) * (data2[i]-Ym))\n",
    "    part4=sqrt(part1 * part2)\n",
    "    \n",
    "    numerator = part3\n",
    "    denominator = part4\n",
    "    r=numerator/denominator\n",
    "    return r"
   ]
  },
  {
   "cell_type": "markdown",
   "metadata": {},
   "source": [
    "Функции сложные, проверю правильно ли они работают"
   ]
  },
  {
   "cell_type": "code",
   "execution_count": 530,
   "metadata": {},
   "outputs": [
    {
     "name": "stdout",
     "output_type": "stream",
     "text": [
      "1.0\n",
      "-0.0761820823187602\n",
      "1.0\n",
      "-0.07618208231893152\n"
     ]
    }
   ],
   "source": [
    "print(PearsonCorrel_1(normDistr1, normDistr1))\n",
    "print(PearsonCorrel_1(normDistr1, paretoDistr))\n",
    "print(PearsonCorrel_2(normDistr1, normDistr1))\n",
    "print(PearsonCorrel_2(normDistr1, paretoDistr))"
   ]
  },
  {
   "cell_type": "markdown",
   "metadata": {},
   "source": [
    "Результаты говорят о том что одинаковые датасеты полностью \n",
    "зависят друг от друга, а разные - соответственно - не зависят.\n",
    "\n",
    "Функции работают корректно"
   ]
  },
  {
   "cell_type": "markdown",
   "metadata": {},
   "source": [
    "Для оценки степени значимости связи организую отдельную функцию"
   ]
  },
  {
   "cell_type": "code",
   "execution_count": 531,
   "metadata": {},
   "outputs": [],
   "source": [
    "def CorrelEstimator(someR):\n",
    "    if someR<0: return \"нет\"\n",
    "    if someR>0 and someR<0.3: return \"очень низкий\"\n",
    "    if someR>0.31 and someR<0.5: return \"низкий\"\n",
    "    if someR>51 and someR<0.7: return \"средний\"\n",
    "    if someR>0.71 and someR<0.9: return \"высокий\"\n",
    "    if someR>0.91 and someR<1.0: return \"очень высокий\"\n",
    "    if someR>=1.0: return \"есть статистически значимая зависимость\"\n",
    "    "
   ]
  },
  {
   "cell_type": "markdown",
   "metadata": {},
   "source": [
    "Теперь напишу функцию, которая будет находть число степеней свободы df из таблицы.\n",
    "Таблица со значениями находится в рабочей директории анаконды.\n"
   ]
  },
  {
   "cell_type": "markdown",
   "metadata": {},
   "source": [
    "Для поиска организую вспомагательную функцию.\n",
    "Пусть это будет бинарный поиск."
   ]
  },
  {
   "cell_type": "code",
   "execution_count": 532,
   "metadata": {},
   "outputs": [],
   "source": [
    "def BinSearch(data, val):\n",
    "    high=len(data)-1\n",
    "    mid=len(data)//2\n",
    "    low=0\n",
    "    \n",
    "    while data[mid]!=val and low<=high:\n",
    "        if data[mid]<val: low = mid\n",
    "        else: high=mid\n",
    "        mid=(low+high)//2\n",
    "    \n",
    "    if low>high: return \"Не найдено\"\n",
    "    else: return mid"
   ]
  },
  {
   "cell_type": "code",
   "execution_count": 533,
   "metadata": {},
   "outputs": [],
   "source": [
    "from pandas import read_excel"
   ]
  },
  {
   "cell_type": "code",
   "execution_count": 534,
   "metadata": {},
   "outputs": [],
   "source": [
    "def GetT(someDf):\n",
    "    array=read_excel(\"pairedCriterionCritVal.xlsx\")\n",
    "    tIdx=BinSearch(array[\"df\"], someDf)\n",
    "    tTab=array[0.05][tIdx]\n",
    "    return 0-tTab"
   ]
  },
  {
   "cell_type": "markdown",
   "metadata": {},
   "source": [
    "Функция, которая находит разницу между элементами массивов:"
   ]
  },
  {
   "cell_type": "code",
   "execution_count": 535,
   "metadata": {},
   "outputs": [],
   "source": [
    "def DifferCalc(data1, data2):\n",
    "    n=len(data1)\n",
    "    if n!=len(data2): return \"Массивы разной длины!\"\n",
    "    dArr=[data1[i]-data2[i] for i in range(n)]\n",
    "    return dArr"
   ]
  },
  {
   "cell_type": "markdown",
   "metadata": {},
   "source": [
    "Собственно функция, которая будет вычислять t-критерий Стьюдента"
   ]
  },
  {
   "cell_type": "code",
   "execution_count": 536,
   "metadata": {},
   "outputs": [],
   "source": [
    "from numpy import std"
   ]
  },
  {
   "cell_type": "code",
   "execution_count": 552,
   "metadata": {},
   "outputs": [
    {
     "data": {
      "text/plain": [
       "(1.7507115929620666e+31, 49)"
      ]
     },
     "execution_count": 552,
     "metadata": {},
     "output_type": "execute_result"
    }
   ],
   "source": [
    "def StudentCriterion(data1, data2):\n",
    "    dArr=DifferCalc(data1, data2)\n",
    "    n=len(dArr)\n",
    "    M=mean(dArr)\n",
    "    sigma=std(dArr)**2\n",
    "    tCriterion=(M/sigma)*sqrt(n)\n",
    "    df=n-1\n",
    "    return 0-tCriterion, df\n",
    "StudentCriterion(normDistr1, normDistr2)"
   ]
  },
  {
   "cell_type": "markdown",
   "metadata": {},
   "source": [
    "Для вызова этих функций организую отдельную функцию, которая сравнит три набора данных и выведет:\n",
    "- Коэффициент корреляции Пирсона (чтобы было видно правильно ли работает его вычисление)\n",
    "- Уровень значимости связи\n",
    "- Число степеней свободы\n",
    "- Эмпирическое значние t-критерия Стьюдента\n",
    "- Табличное значние t-критерия Стьюдента\n",
    "- Есть ли статистическая зависимость"
   ]
  },
  {
   "cell_type": "code",
   "execution_count": 553,
   "metadata": {},
   "outputs": [],
   "source": [
    "def main(data1, data2):\n",
    "    r=PearsonCorrel_2(data1, data2)\n",
    "    correlStr=CorrelEstimator(r)\n",
    "    tCritEmp, df = StudentCriterion(data1, data2)\n",
    "    tCritTab = GetT(df)\n",
    "    isDep= \"нет\" \n",
    "    if tCritEmp>tCritTab:\n",
    "        isDep = \"есть\"\n",
    "    print(\"Коэф. Пирсона:     \", r)\n",
    "    print(\"Ур.знач. связи:    \", correlStr)\n",
    "    print(\"Степени свободы:   \", df)\n",
    "    print(\"Эмп. t-критерий:   \", tCritEmp)\n",
    "    print(\"Табл. t-критерий:  \", tCritTab)\n",
    "    print(\"Стат. зависимость: \", isDep)\n",
    "\n",
    "    print()"
   ]
  },
  {
   "cell_type": "markdown",
   "metadata": {},
   "source": [
    "### Результат"
   ]
  },
  {
   "cell_type": "markdown",
   "metadata": {},
   "source": [
    "Для наглядности построю графики распределения частот в наборах"
   ]
  },
  {
   "cell_type": "code",
   "execution_count": 554,
   "metadata": {},
   "outputs": [],
   "source": [
    "import matplotlib.pyplot as plt"
   ]
  },
  {
   "cell_type": "code",
   "execution_count": 555,
   "metadata": {},
   "outputs": [
    {
     "data": {
      "image/png": "[encoded data removed]",
      "text/plain": [
       "<Figure size 432x288 with 3 Axes>"
      ]
     },
     "metadata": {
      "needs_background": "light"
     },
     "output_type": "display_data"
    }
   ],
   "source": [
    "plt.figure(1)\n",
    "plt.subplot(3,1,1)\n",
    "plt.hist(normDistr1);\n",
    "plt.subplot(3,1,2)\n",
    "plt.hist(normDistr2);\n",
    "plt.subplot(3,1,3)\n",
    "plt.hist(paretoDistr);"
   ]
  },
  {
   "cell_type": "code",
   "execution_count": null,
   "metadata": {
    "scrolled": true
   },
   "outputs": [],
   "source": []
  },
  {
   "cell_type": "code",
   "execution_count": 556,
   "metadata": {},
   "outputs": [
    {
     "name": "stdout",
     "output_type": "stream",
     "text": [
      "Нормальное1 и Нормальное2\n",
      "Коэф. Пирсона:      1.0\n",
      "Ур.знач. связи:     есть статистически значимая зависимость\n",
      "Степени свободы:    49\n",
      "Эмп. t-критерий:    1.7507115929620666e+31\n",
      "Табл. t-критерий:   -2.01\n",
      "Стат. зависимость:  есть\n",
      "\n",
      "Нормальное1 и Парето\n",
      "Коэф. Пирсона:      -0.07618208231893152\n",
      "Ур.знач. связи:     нет\n",
      "Степени свободы:    49\n",
      "Эмп. t-критерий:    -1.9293921352561432\n",
      "Табл. t-критерий:   -2.01\n",
      "Стат. зависимость:  есть\n",
      "\n",
      "Нормальное2 и Парето\n",
      "Коэф. Пирсона:      -0.07618208231893152\n",
      "Ур.знач. связи:     нет\n",
      "Степени свободы:    49\n",
      "Эмп. t-критерий:    -2.120357749324915\n",
      "Табл. t-критерий:   -2.01\n",
      "Стат. зависимость:  нет\n",
      "\n"
     ]
    }
   ],
   "source": [
    "print(\"Нормальное1 и Нормальное2\")\n",
    "main(normDistr1, normDistr2)\n",
    "print(\"Нормальное1 и Парето\")\n",
    "main(normDistr1, paretoDistr)\n",
    "print(\"Нормальное2 и Парето\")\n",
    "main(normDistr2, paretoDistr)"
   ]
  },
  {
   "cell_type": "markdown",
   "metadata": {},
   "source": [
    "### Выводы\n",
    "Полученные значения критерия Пирсона, значимости связи и t-критерия Стьюдента говорят о следующем:\n",
    "- Функция  работает корректно\n",
    "- Первые два датасета взаимосвязаны\n",
    "- Первый и третий датасеты различны\n",
    "- Второй и третий датасеты различны\n",
    "\n",
    "Что также подтверждает вид гистограмм"
   ]
  }
 ],
 "metadata": {
  "kernelspec": {
   "display_name": "Python 3",
   "language": "python",
   "name": "python3"
  },
  "language_info": {
   "codemirror_mode": {
    "name": "ipython",
    "version": 3
   },
   "file_extension": ".py",
   "mimetype": "text/x-python",
   "name": "python",
   "nbconvert_exporter": "python",
   "pygments_lexer": "ipython3",
   "version": "3.7.4"
  }
 },
 "nbformat": 4,
 "nbformat_minor": 2
}
